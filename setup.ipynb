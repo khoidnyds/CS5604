{
 "cells": [
  {
   "cell_type": "code",
   "execution_count": 18,
   "metadata": {},
   "outputs": [],
   "source": [
    "# import py7zr\n",
    "# from pathlib import Path\n",
    "\n",
    "# # extract compressed data file\n",
    "# data_path = Path('data')\n",
    "# with py7zr.SevenZipFile(data_path.joinpath('data_dirty.7z'), mode='r') as z:\n",
    "#     z.extractall(data_path)"
   ]
  },
  {
   "cell_type": "code",
   "execution_count": 1,
   "metadata": {},
   "outputs": [],
   "source": [
    "import io\n",
    "import re\n",
    "import string\n",
    "import tqdm\n",
    "\n",
    "import numpy as np\n",
    "import pandas as pd\n",
    "import tensorflow as tf\n",
    "from tensorflow.keras import layers"
   ]
  },
  {
   "cell_type": "code",
   "execution_count": 2,
   "metadata": {},
   "outputs": [],
   "source": [
    "SEED = 42\n",
    "AUTOTUNE = tf.data.AUTOTUNE"
   ]
  },
  {
   "cell_type": "code",
   "execution_count": 3,
   "metadata": {},
   "outputs": [],
   "source": [
    "from pyfaidx import Fasta\n",
    "data = Fasta(\"data/15400-16555_sequence.fasta\")"
   ]
  },
  {
   "cell_type": "code",
   "execution_count": 9,
   "metadata": {},
   "outputs": [
    {
     "data": {
      "text/plain": [
       "1732"
      ]
     },
     "execution_count": 9,
     "metadata": {},
     "output_type": "execute_result"
    }
   ],
   "source": [
    "len(data.keys())"
   ]
  },
  {
   "cell_type": "code",
   "execution_count": 7,
   "metadata": {},
   "outputs": [
    {
     "data": {
      "text/plain": [
       "1732"
      ]
     },
     "execution_count": 7,
     "metadata": {},
     "output_type": "execute_result"
    }
   ],
   "source": [
    "count=0\n",
    "for record in data:\n",
    "    count+=1\n",
    "count"
   ]
  },
  {
   "cell_type": "code",
   "execution_count": 23,
   "metadata": {},
   "outputs": [
    {
     "data": {
      "image/png": "[encoded data removed]",
      "text/plain": [
       "<Figure size 432x288 with 1 Axes>"
      ]
     },
     "metadata": {
      "needs_background": "light"
     },
     "output_type": "display_data"
    },
    {
     "name": "stdout",
     "output_type": "stream",
     "text": [
      "1732\n",
      "15893.848729792147\n",
      "512.1947490467297\n"
     ]
    }
   ],
   "source": [
    "import matplotlib.pyplot as plt\n",
    "num_seq = len(data.keys())\n",
    "seq_len = np.array([len(x[:].seq) for x in data])\n",
    "plt.hist(seq_len)\n",
    "plt.show()\n",
    "\n",
    "print(num_seq)\n",
    "print(np.mean(seq_len))\n",
    "print(np.std(seq_len))"
   ]
  },
  {
   "cell_type": "code",
   "execution_count": 24,
   "metadata": {},
   "outputs": [],
   "source": [
    "def build_kmers(sequence, ksize):\n",
    "    kmers = []\n",
    "    n_kmers = len(sequence) - ksize + 1\n",
    "\n",
    "    for i in range(n_kmers):\n",
    "        kmer = sequence[i:i + ksize]\n",
    "        kmers.append(kmer)\n",
    "\n",
    "    return kmers"
   ]
  },
  {
   "cell_type": "code",
   "execution_count": 25,
   "metadata": {},
   "outputs": [
    {
     "data": {
      "text/html": [
       "<div>\n",
       "<style scoped>\n",
       "    .dataframe tbody tr th:only-of-type {\n",
       "        vertical-align: middle;\n",
       "    }\n",
       "\n",
       "    .dataframe tbody tr th {\n",
       "        vertical-align: top;\n",
       "    }\n",
       "\n",
       "    .dataframe thead th {\n",
       "        text-align: right;\n",
       "    }\n",
       "</style>\n",
       "<table border=\"1\" class=\"dataframe\">\n",
       "  <thead>\n",
       "    <tr style=\"text-align: right;\">\n",
       "      <th></th>\n",
       "      <th>0</th>\n",
       "      <th>1</th>\n",
       "      <th>2</th>\n",
       "      <th>3</th>\n",
       "      <th>4</th>\n",
       "      <th>5</th>\n",
       "      <th>6</th>\n",
       "      <th>7</th>\n",
       "      <th>8</th>\n",
       "      <th>9</th>\n",
       "      <th>...</th>\n",
       "      <th>16535</th>\n",
       "      <th>16536</th>\n",
       "      <th>16537</th>\n",
       "      <th>16538</th>\n",
       "      <th>16539</th>\n",
       "      <th>16540</th>\n",
       "      <th>16541</th>\n",
       "      <th>16542</th>\n",
       "      <th>16543</th>\n",
       "      <th>16544</th>\n",
       "    </tr>\n",
       "  </thead>\n",
       "  <tbody>\n",
       "    <tr>\n",
       "      <th>0</th>\n",
       "      <td>TTAACCACTCA</td>\n",
       "      <td>TAACCACTCAC</td>\n",
       "      <td>AACCACTCACG</td>\n",
       "      <td>ACCACTCACGG</td>\n",
       "      <td>CCACTCACGGG</td>\n",
       "      <td>CACTCACGGGA</td>\n",
       "      <td>ACTCACGGGAG</td>\n",
       "      <td>CTCACGGGAGC</td>\n",
       "      <td>TCACGGGAGCT</td>\n",
       "      <td>CACGGGAGCTC</td>\n",
       "      <td>...</td>\n",
       "      <td>NaN</td>\n",
       "      <td>NaN</td>\n",
       "      <td>NaN</td>\n",
       "      <td>NaN</td>\n",
       "      <td>NaN</td>\n",
       "      <td>NaN</td>\n",
       "      <td>NaN</td>\n",
       "      <td>NaN</td>\n",
       "      <td>NaN</td>\n",
       "      <td>NaN</td>\n",
       "    </tr>\n",
       "    <tr>\n",
       "      <th>1</th>\n",
       "      <td>CACCCTATTAA</td>\n",
       "      <td>ACCCTATTAAC</td>\n",
       "      <td>CCCTATTAACC</td>\n",
       "      <td>CCTATTAACCA</td>\n",
       "      <td>CTATTAACCAC</td>\n",
       "      <td>TATTAACCACT</td>\n",
       "      <td>ATTAACCACTC</td>\n",
       "      <td>TTAACCACTCA</td>\n",
       "      <td>TAACCACTCAC</td>\n",
       "      <td>AACCACTCACG</td>\n",
       "      <td>...</td>\n",
       "      <td>TTAAATAAGAC</td>\n",
       "      <td>TAAATAAGACA</td>\n",
       "      <td>AAATAAGACAT</td>\n",
       "      <td>AATAAGACATC</td>\n",
       "      <td>NaN</td>\n",
       "      <td>NaN</td>\n",
       "      <td>NaN</td>\n",
       "      <td>NaN</td>\n",
       "      <td>NaN</td>\n",
       "      <td>NaN</td>\n",
       "    </tr>\n",
       "    <tr>\n",
       "      <th>2</th>\n",
       "      <td>TCACAGGTCTA</td>\n",
       "      <td>CACAGGTCTAT</td>\n",
       "      <td>ACAGGTCTATC</td>\n",
       "      <td>CAGGTCTATCA</td>\n",
       "      <td>AGGTCTATCAC</td>\n",
       "      <td>GGTCTATCACC</td>\n",
       "      <td>GTCTATCACCC</td>\n",
       "      <td>TCTATCACCCT</td>\n",
       "      <td>CTATCACCCTA</td>\n",
       "      <td>TATCACCCTAT</td>\n",
       "      <td>...</td>\n",
       "      <td>NaN</td>\n",
       "      <td>NaN</td>\n",
       "      <td>NaN</td>\n",
       "      <td>NaN</td>\n",
       "      <td>NaN</td>\n",
       "      <td>NaN</td>\n",
       "      <td>NaN</td>\n",
       "      <td>NaN</td>\n",
       "      <td>NaN</td>\n",
       "      <td>NaN</td>\n",
       "    </tr>\n",
       "  </tbody>\n",
       "</table>\n",
       "<p>3 rows × 16545 columns</p>\n",
       "</div>"
      ],
      "text/plain": [
       "         0            1            2            3            4      \\\n",
       "0  TTAACCACTCA  TAACCACTCAC  AACCACTCACG  ACCACTCACGG  CCACTCACGGG   \n",
       "1  CACCCTATTAA  ACCCTATTAAC  CCCTATTAACC  CCTATTAACCA  CTATTAACCAC   \n",
       "2  TCACAGGTCTA  CACAGGTCTAT  ACAGGTCTATC  CAGGTCTATCA  AGGTCTATCAC   \n",
       "\n",
       "         5            6            7            8            9      ...  \\\n",
       "0  CACTCACGGGA  ACTCACGGGAG  CTCACGGGAGC  TCACGGGAGCT  CACGGGAGCTC  ...   \n",
       "1  TATTAACCACT  ATTAACCACTC  TTAACCACTCA  TAACCACTCAC  AACCACTCACG  ...   \n",
       "2  GGTCTATCACC  GTCTATCACCC  TCTATCACCCT  CTATCACCCTA  TATCACCCTAT  ...   \n",
       "\n",
       "         16535        16536        16537        16538 16539 16540 16541 16542  \\\n",
       "0          NaN          NaN          NaN          NaN   NaN   NaN   NaN   NaN   \n",
       "1  TTAAATAAGAC  TAAATAAGACA  AAATAAGACAT  AATAAGACATC   NaN   NaN   NaN   NaN   \n",
       "2          NaN          NaN          NaN          NaN   NaN   NaN   NaN   NaN   \n",
       "\n",
       "  16543 16544  \n",
       "0   NaN   NaN  \n",
       "1   NaN   NaN  \n",
       "2   NaN   NaN  \n",
       "\n",
       "[3 rows x 16545 columns]"
      ]
     },
     "execution_count": 25,
     "metadata": {},
     "output_type": "execute_result"
    }
   ],
   "source": [
    "ksize = 11\n",
    "corpus = pd.DataFrame([build_kmers(x[:].seq, ksize) for x in data])\n",
    "corpus = corpus.fillna(np.NaN)\n",
    "corpus = corpus.iloc[:3,:]\n",
    "corpus\n",
    "# tokens"
   ]
  },
  {
   "cell_type": "code",
   "execution_count": 26,
   "metadata": {},
   "outputs": [
    {
     "data": {
      "text/plain": [
       "17191"
      ]
     },
     "execution_count": 26,
     "metadata": {},
     "output_type": "execute_result"
    }
   ],
   "source": [
    "vocab, index = {}, 1  # start indexing from 1\n",
    "vocab['<pad>'] = 0  # add a padding token\n",
    "for _, sentence in corpus.iterrows():\n",
    "  for token in sentence.values:\n",
    "    if token not in vocab:\n",
    "      vocab[token] = index\n",
    "      index += 1\n",
    "vocab_size = len(vocab)\n",
    "vocab_size"
   ]
  },
  {
   "cell_type": "code",
   "execution_count": 27,
   "metadata": {},
   "outputs": [],
   "source": [
    "inverse_vocab = {index: token for token, index in vocab.items()}"
   ]
  },
  {
   "cell_type": "code",
   "execution_count": 28,
   "metadata": {},
   "outputs": [],
   "source": [
    "example_sequence = [[vocab[word] for word in corpus.iloc[sent,:]] for sent in range(corpus.shape[0])]"
   ]
  },
  {
   "cell_type": "code",
   "execution_count": null,
   "metadata": {},
   "outputs": [],
   "source": [
    "# Get target and context words for one positive skip-gram.\n",
    "target_word, context_word = positive_skip_grams[0]\n",
    "\n",
    "# Set the number of negative samples per positive context.\n",
    "num_ns = 4\n",
    "\n",
    "context_class = tf.reshape(tf.constant(context_word, dtype=\"int64\"), (1, 1))\n",
    "negative_sampling_candidates, _, _ = tf.random.log_uniform_candidate_sampler(\n",
    "    true_classes=context_class,  # class that should be sampled as 'positive'\n",
    "    num_true=1,  # each positive skip-gram has 1 positive context class\n",
    "    num_sampled=num_ns,  # number of negative context words to sample\n",
    "    unique=True,  # all the negative samples should be unique\n",
    "    range_max=vocab_size,  # pick index of the samples from [0, vocab_size]\n",
    "    seed=SEED,  # seed for reproducibility\n",
    "    name=\"negative_sampling\"  # name of this operation\n",
    ")\n",
    "print(negative_sampling_candidates)\n",
    "print([inverse_vocab[index.numpy()] for index in negative_sampling_candidates])"
   ]
  },
  {
   "cell_type": "code",
   "execution_count": 30,
   "metadata": {},
   "outputs": [],
   "source": [
    "# Generates skip-gram pairs with negative sampling for a list of sequences\n",
    "# (int-encoded sentences) based on window size, number of negative samples\n",
    "# and vocabulary size.\n",
    "def generate_training_data(sequences, window_size, num_ns, vocab_size, seed):\n",
    "  # Elements of each training example are appended to these lists.\n",
    "  targets, contexts, labels = [], [], []\n",
    "\n",
    "  # Build the sampling table for vocab_size tokens.\n",
    "  sampling_table = tf.keras.preprocessing.sequence.make_sampling_table(vocab_size)\n",
    "\n",
    "  # Iterate over all sequences (sentences) in dataset.\n",
    "  for sequence in tqdm.tqdm(sequences):\n",
    "\n",
    "    # Generate positive skip-gram pairs for a sequence (sentence).\n",
    "    positive_skip_grams, _ = tf.keras.preprocessing.sequence.skipgrams(\n",
    "          sequence,\n",
    "          vocabulary_size=vocab_size,\n",
    "          sampling_table=sampling_table,\n",
    "          window_size=window_size,\n",
    "          negative_samples=0)\n",
    "\n",
    "    # Iterate over each positive skip-gram pair to produce training examples\n",
    "    # with positive context word and negative samples.\n",
    "    for target_word, context_word in positive_skip_grams:\n",
    "      context_class = tf.expand_dims(\n",
    "          tf.constant([context_word], dtype=\"int64\"), 1)\n",
    "      negative_sampling_candidates, _, _ = tf.random.log_uniform_candidate_sampler(\n",
    "          true_classes=context_class,\n",
    "          num_true=1,\n",
    "          num_sampled=num_ns,\n",
    "          unique=True,\n",
    "          range_max=vocab_size,\n",
    "          seed=SEED,\n",
    "          name=\"negative_sampling\")\n",
    "\n",
    "      # Build context and label vectors (for one target word)\n",
    "      negative_sampling_candidates = tf.expand_dims(\n",
    "          negative_sampling_candidates, 1)\n",
    "\n",
    "      context = tf.concat([context_class, negative_sampling_candidates], 0)\n",
    "      label = tf.constant([1] + [0]*num_ns, dtype=\"int64\")\n",
    "\n",
    "      # Append each element from the training example to global lists.\n",
    "      targets.append(target_word)\n",
    "      contexts.append(context)\n",
    "      labels.append(label)\n",
    "\n",
    "  return targets, contexts, labels"
   ]
  },
  {
   "cell_type": "code",
   "execution_count": 32,
   "metadata": {},
   "outputs": [
    {
     "name": "stderr",
     "output_type": "stream",
     "text": [
      "  0%|          | 0/3 [00:00<?, ?it/s]2021-10-28 23:35:00.072990: I tensorflow/core/platform/cpu_feature_guard.cc:142] This TensorFlow binary is optimized with oneAPI Deep Neural Network Library (oneDNN) to use the following CPU instructions in performance-critical operations:  SSE4.1 SSE4.2 AVX AVX2 FMA\n",
      "To enable them in other operations, rebuild TensorFlow with the appropriate compiler flags.\n",
      "100%|██████████| 3/3 [00:13<00:00,  4.61s/it]\n"
     ]
    },
    {
     "name": "stdout",
     "output_type": "stream",
     "text": [
      "\n",
      "\n",
      "targets.shape: (155417,)\n",
      "contexts.shape: (155417, 5)\n",
      "labels.shape: (155417, 5)\n"
     ]
    }
   ],
   "source": [
    "targets, contexts, labels = generate_training_data(\n",
    "    sequences=example_sequence,\n",
    "    window_size=2,\n",
    "    num_ns=4,\n",
    "    vocab_size=vocab_size,\n",
    "    seed=SEED)\n",
    "\n",
    "targets = np.array(targets)\n",
    "contexts = np.array(contexts)[:,:,0]\n",
    "labels = np.array(labels)\n",
    "\n",
    "print('\\n')\n",
    "print(f\"targets.shape: {targets.shape}\")\n",
    "print(f\"contexts.shape: {contexts.shape}\")\n",
    "print(f\"labels.shape: {labels.shape}\")\n"
   ]
  },
  {
   "cell_type": "code",
   "execution_count": 33,
   "metadata": {},
   "outputs": [
    {
     "name": "stdout",
     "output_type": "stream",
     "text": [
      "<BatchDataset shapes: (((1024,), (1024, 5)), (1024, 5)), types: ((tf.int64, tf.int64), tf.int64)>\n"
     ]
    }
   ],
   "source": [
    "BATCH_SIZE = 1024\n",
    "BUFFER_SIZE = 10000\n",
    "dataset = tf.data.Dataset.from_tensor_slices(((targets, contexts), labels))\n",
    "dataset = dataset.shuffle(BUFFER_SIZE).batch(BATCH_SIZE, drop_remainder=True)\n",
    "print(dataset)"
   ]
  },
  {
   "cell_type": "code",
   "execution_count": 38,
   "metadata": {},
   "outputs": [
    {
     "name": "stdout",
     "output_type": "stream",
     "text": [
      "<PrefetchDataset shapes: (((1024,), (1024, 5)), (1024, 5)), types: ((tf.int64, tf.int64), tf.int64)>\n"
     ]
    }
   ],
   "source": [
    "dataset = dataset.cache().prefetch(buffer_size=AUTOTUNE)\n",
    "print(dataset)\n",
    "num_ns = 4\n"
   ]
  },
  {
   "cell_type": "code",
   "execution_count": 39,
   "metadata": {},
   "outputs": [],
   "source": [
    "class Word2Vec(tf.keras.Model):\n",
    "  def __init__(self, vocab_size, embedding_dim):\n",
    "    super(Word2Vec, self).__init__()\n",
    "    self.target_embedding = layers.Embedding(vocab_size,\n",
    "                                      embedding_dim,\n",
    "                                      input_length=1,\n",
    "                                      name=\"w2v_embedding\")\n",
    "    self.context_embedding = layers.Embedding(vocab_size,\n",
    "                                       embedding_dim,\n",
    "                                       input_length=num_ns+1)\n",
    "\n",
    "  def call(self, pair):\n",
    "    target, context = pair\n",
    "    # target: (batch, dummy?)  # The dummy axis doesn't exist in TF2.7+\n",
    "    # context: (batch, context)\n",
    "    if len(target.shape) == 2:\n",
    "      target = tf.squeeze(target, axis=1)\n",
    "    # target: (batch,)\n",
    "    word_emb = self.target_embedding(target)\n",
    "    # word_emb: (batch, embed)\n",
    "    context_emb = self.context_embedding(context)\n",
    "    # context_emb: (batch, context, embed)\n",
    "    dots = tf.einsum('be,bce->bc', word_emb, context_emb)\n",
    "    # dots: (batch, context)\n",
    "    return dots"
   ]
  },
  {
   "cell_type": "code",
   "execution_count": 40,
   "metadata": {},
   "outputs": [],
   "source": [
    "embedding_dim = 128\n",
    "word2vec = Word2Vec(vocab_size, embedding_dim)\n",
    "word2vec.compile(optimizer='adam',\n",
    "                 loss=tf.keras.losses.CategoricalCrossentropy(from_logits=True),\n",
    "                 metrics=['accuracy'])"
   ]
  },
  {
   "cell_type": "code",
   "execution_count": 42,
   "metadata": {},
   "outputs": [
    {
     "name": "stdout",
     "output_type": "stream",
     "text": [
      "Epoch 1/20\n",
      "  2/151 [..............................] - ETA: 7s - loss: 1.6093 - accuracy: 0.2056  "
     ]
    },
    {
     "name": "stderr",
     "output_type": "stream",
     "text": [
      "2021-10-28 23:37:18.064562: I tensorflow/compiler/mlir/mlir_graph_optimization_pass.cc:185] None of the MLIR Optimization Passes are enabled (registered 2)\n",
      "2021-10-28 23:37:18.164210: I tensorflow/core/profiler/lib/profiler_session.cc:131] Profiler session initializing.\n",
      "2021-10-28 23:37:18.164256: I tensorflow/core/profiler/lib/profiler_session.cc:146] Profiler session started.\n",
      "2021-10-28 23:37:18.206684: I tensorflow/core/profiler/lib/profiler_session.cc:66] Profiler session collecting data.\n",
      "2021-10-28 23:37:18.215303: I tensorflow/core/profiler/lib/profiler_session.cc:164] Profiler session tear down.\n",
      "2021-10-28 23:37:18.230955: I tensorflow/core/profiler/rpc/client/save_profile.cc:136] Creating directory: logs/train/plugins/profile/2021_10_28_23_37_18\n",
      "\n",
      "2021-10-28 23:37:18.247566: I tensorflow/core/profiler/rpc/client/save_profile.cc:142] Dumped gzipped tool data for trace.json.gz to logs/train/plugins/profile/2021_10_28_23_37_18/tinkercliffs1.trace.json.gz\n",
      "2021-10-28 23:37:18.252677: I tensorflow/core/profiler/rpc/client/save_profile.cc:136] Creating directory: logs/train/plugins/profile/2021_10_28_23_37_18\n",
      "\n",
      "2021-10-28 23:37:18.255428: I tensorflow/core/profiler/rpc/client/save_profile.cc:142] Dumped gzipped tool data for memory_profile.json.gz to logs/train/plugins/profile/2021_10_28_23_37_18/tinkercliffs1.memory_profile.json.gz\n"
     ]
    },
    {
     "name": "stdout",
     "output_type": "stream",
     "text": [
      "  5/151 [..............................] - ETA: 9s - loss: 1.6095 - accuracy: 0.1998 "
     ]
    },
    {
     "name": "stderr",
     "output_type": "stream",
     "text": [
      "2021-10-28 23:37:18.287346: I tensorflow/core/profiler/rpc/client/capture_profile.cc:251] Creating directory: logs/train/plugins/profile/2021_10_28_23_37_18\n",
      "Dumped tool data for xplane.pb to logs/train/plugins/profile/2021_10_28_23_37_18/tinkercliffs1.xplane.pb\n",
      "Dumped tool data for overview_page.pb to logs/train/plugins/profile/2021_10_28_23_37_18/tinkercliffs1.overview_page.pb\n",
      "Dumped tool data for input_pipeline.pb to logs/train/plugins/profile/2021_10_28_23_37_18/tinkercliffs1.input_pipeline.pb\n",
      "Dumped tool data for tensorflow_stats.pb to logs/train/plugins/profile/2021_10_28_23_37_18/tinkercliffs1.tensorflow_stats.pb\n",
      "Dumped tool data for kernel_stats.pb to logs/train/plugins/profile/2021_10_28_23_37_18/tinkercliffs1.kernel_stats.pb\n",
      "\n"
     ]
    },
    {
     "name": "stdout",
     "output_type": "stream",
     "text": [
      "151/151 [==============================] - 10s 66ms/step - loss: 1.5889 - accuracy: 0.6192\n",
      "Epoch 2/20\n",
      "151/151 [==============================] - 11s 71ms/step - loss: 1.3079 - accuracy: 0.9855\n",
      "Epoch 3/20\n",
      "151/151 [==============================] - 11s 72ms/step - loss: 0.7145 - accuracy: 0.9467\n",
      "Epoch 4/20\n",
      "151/151 [==============================] - 11s 73ms/step - loss: 0.4337 - accuracy: 0.9402\n",
      "Epoch 5/20\n",
      "151/151 [==============================] - 10s 67ms/step - loss: 0.3060 - accuracy: 0.9601\n",
      "Epoch 6/20\n",
      "151/151 [==============================] - 10s 66ms/step - loss: 0.2221 - accuracy: 0.9790\n",
      "Epoch 7/20\n",
      "151/151 [==============================] - 10s 66ms/step - loss: 0.1613 - accuracy: 0.9906\n",
      "Epoch 8/20\n",
      "151/151 [==============================] - 10s 64ms/step - loss: 0.1171 - accuracy: 0.9964\n",
      "Epoch 9/20\n",
      "151/151 [==============================] - 10s 65ms/step - loss: 0.0856 - accuracy: 0.9990\n",
      "Epoch 10/20\n",
      "151/151 [==============================] - 10s 68ms/step - loss: 0.0632 - accuracy: 0.9997\n",
      "Epoch 11/20\n",
      "151/151 [==============================] - 10s 66ms/step - loss: 0.0474 - accuracy: 0.9999\n",
      "Epoch 12/20\n",
      "151/151 [==============================] - 10s 65ms/step - loss: 0.0362 - accuracy: 1.0000\n",
      "Epoch 13/20\n",
      "151/151 [==============================] - 9s 63ms/step - loss: 0.0281 - accuracy: 1.0000\n",
      "Epoch 14/20\n",
      "151/151 [==============================] - 10s 63ms/step - loss: 0.0222 - accuracy: 1.0000\n",
      "Epoch 15/20\n",
      "151/151 [==============================] - 10s 65ms/step - loss: 0.0178 - accuracy: 1.0000\n",
      "Epoch 16/20\n",
      "151/151 [==============================] - 10s 63ms/step - loss: 0.0146 - accuracy: 1.0000\n",
      "Epoch 17/20\n",
      "151/151 [==============================] - 10s 65ms/step - loss: 0.0120 - accuracy: 1.0000\n",
      "Epoch 18/20\n",
      "151/151 [==============================] - 10s 64ms/step - loss: 0.0101 - accuracy: 1.0000\n",
      "Epoch 19/20\n",
      "151/151 [==============================] - 10s 64ms/step - loss: 0.0085 - accuracy: 1.0000\n",
      "Epoch 20/20\n",
      "151/151 [==============================] - 9s 62ms/step - loss: 0.0072 - accuracy: 1.0000\n"
     ]
    },
    {
     "data": {
      "text/plain": [
       "<keras.callbacks.History at 0x2aaf01ca8ac0>"
      ]
     },
     "execution_count": 42,
     "metadata": {},
     "output_type": "execute_result"
    }
   ],
   "source": [
    "word2vec.fit(dataset, epochs=20)"
   ]
  },
  {
   "cell_type": "code",
   "execution_count": 45,
   "metadata": {},
   "outputs": [
    {
     "data": {
      "text/plain": [
       "<PrefetchDataset shapes: (((1024,), (1024, 5)), (1024, 5)), types: ((tf.int64, tf.int64), tf.int64)>"
      ]
     },
     "execution_count": 45,
     "metadata": {},
     "output_type": "execute_result"
    }
   ],
   "source": []
  },
  {
   "cell_type": "code",
   "execution_count": 47,
   "metadata": {},
   "outputs": [],
   "source": [
    "weights = word2vec.get_layer('w2v_embedding').get_weights()[0]\n",
    "# vocab = vectorize_layer.get_vocabulary()"
   ]
  },
  {
   "cell_type": "code",
   "execution_count": 49,
   "metadata": {},
   "outputs": [
    {
     "data": {
      "text/plain": [
       "(17191, 128)"
      ]
     },
     "execution_count": 49,
     "metadata": {},
     "output_type": "execute_result"
    }
   ],
   "source": [
    "weights.shape"
   ]
  },
  {
   "cell_type": "code",
   "execution_count": 51,
   "metadata": {},
   "outputs": [
    {
     "data": {
      "text/plain": [
       "17191"
      ]
     },
     "execution_count": 51,
     "metadata": {},
     "output_type": "execute_result"
    }
   ],
   "source": [
    "len(vocab)"
   ]
  },
  {
   "cell_type": "code",
   "execution_count": 58,
   "metadata": {},
   "outputs": [],
   "source": [
    "out_v = io.open('vectors.tsv', 'w', encoding='utf-8')\n",
    "out_m = io.open('metadata.tsv', 'w', encoding='utf-8')\n",
    "\n",
    "for index, word in enumerate(vocab):\n",
    "  if index == 0:\n",
    "    continue  # skip 0, it's padding.\n",
    "  if word is np.NaN:\n",
    "    continue\n",
    "  vec = weights[index]\n",
    "  out_v.write('\\t'.join([str(x) for x in vec]) + \"\\n\")\n",
    "  out_m.write(word + \"\\n\")\n",
    "out_v.close()\n",
    "out_m.close()"
   ]
  }
 ],
 "metadata": {
  "interpreter": {
   "hash": "b375a0474f650c25ecb1f5b23c0753c2b5e7495196431cccebd57e94755f51a0"
  },
  "kernelspec": {
   "display_name": "Python 3.9.7 64-bit ('CS5604-proj': conda)",
   "name": "python3"
  },
  "language_info": {
   "codemirror_mode": {
    "name": "ipython",
    "version": 3
   },
   "file_extension": ".py",
   "mimetype": "text/x-python",
   "name": "python",
   "nbconvert_exporter": "python",
   "pygments_lexer": "ipython3",
   "version": "3.9.7"
  },
  "orig_nbformat": 4
 },
 "nbformat": 4,
 "nbformat_minor": 2
}
